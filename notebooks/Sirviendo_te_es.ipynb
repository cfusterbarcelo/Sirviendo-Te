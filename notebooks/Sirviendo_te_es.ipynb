{
  "cells": [
    {
      "cell_type": "markdown",
      "metadata": {
        "colab_type": "text",
        "id": "view-in-github"
      },
      "source": [
        "<a href=\"https://colab.research.google.com/github/cfusterbarcelo/Sirviendo-Te/blob/main/notebooks/Sirviendo_te_es.ipynb\" target=\"_parent\"><img src=\"https://colab.research.google.com/assets/colab-badge.svg\" alt=\"Open In Colab\"/></a>"
      ]
    },
    {
      "cell_type": "markdown",
      "id": "52f31d5b",
      "metadata": {
        "id": "52f31d5b"
      },
      "source": [
        "# ☕ Sirviendo-Té: Analiza tu chat de WhatsApp\n",
        "\n",
        "### Bienvenida, bienvenido, bienvenide. 💬✨\n",
        "\n",
        "No te asustes: **no vas a tener que programar**.  \n",
        "Este cuaderno está diseñado para que puedas **sacarle todo el jugo a tu chat de WhatsApp** sin complicaciones.\n",
        "\n",
        "Solo necesitas:\n",
        "\n",
        "1. Exportar tu chat desde WhatsApp (encontrarás cómo en el [Readme.md](../README.md)).\n",
        "2. Subirlo aquí.\n",
        "3. Sentarte a disfrutar de **gráficos, nubes de palabras, datos curiosos y estadísticas** que revelan lo que pasa realmente en tu grupo.\n",
        "\n",
        "Vamos a ir viendo cosas como:\n",
        "- Quién habla más\n",
        "- Qué palabras se usan más\n",
        "- Cuándo está más activo el grupo\n",
        "\n",
        "### Cómo usar el cuaderno\n",
        "\n",
        "Estos son los famosos \"notebooks\" de Python. Este cuaderno tiene un montón de código en Python oculta que hace todo por ti. Tu solo tienes que ir dándole al play a las celdas y darle información al programa cuando te lo pide (como el fichero).\n",
        "Así que, de nuevo, no te preocupes si no sabes programar, solo disfruta.\n",
        "\n",
        "Vamos a ello!"
      ]
    },
    {
      "cell_type": "markdown",
      "id": "39c95f41",
      "metadata": {
        "id": "39c95f41"
      },
      "source": [
        "## 📂 Sube tu archivo exportado de WhatsApp\n",
        "\n",
        "Arrastra o selecciona el archivo `.txt` que exportaste desde tu chat de WhatsApp.\n",
        "\n",
        "Assegúrate de descomprimirlo si lo tienes en un `.zip`, aquí necesitamos el `.txt` para sacarle todo el jugo!\n",
        "\n",
        "⬇️ Sube tu archivo aquí abajo:"
      ]
    },
    {
      "cell_type": "code",
      "execution_count": null,
      "id": "78058e8f",
      "metadata": {
        "colab": {
          "base_uri": "https://localhost:8080/",
          "height": 90
        },
        "id": "78058e8f",
        "outputId": "a8292c93-468f-47a2-b2e2-5e00bd677f21"
      },
      "outputs": [],
      "source": [
        "# @title 📎 Subir archivo de WhatsApp (.txt) { display-mode: \"form\" }\n",
        "from google.colab import files\n",
        "import pandas as pd\n",
        "import re\n",
        "from scripts.utils import cargar_chat, limpiar_mensajes\n",
        "\n",
        "uploaded = files.upload()\n",
        "chat_file = list(uploaded.keys())[0]\n",
        "\n",
        "with open(chat_file, 'r', encoding='utf-8') as f:\n",
        "    lines = f.readlines()\n",
        "print(\"✅ Archivo cargado correctamente. ¡Vamos allá!\")\n",
        "\n",
        "df = cargar_chat(lines)\n",
        "df = limpiar_mensajes(df)"
      ]
    },
    {
      "cell_type": "code",
      "execution_count": null,
      "id": "zHqTjqTI4Azt",
      "metadata": {
        "colab": {
          "base_uri": "https://localhost:8080/"
        },
        "id": "zHqTjqTI4Azt",
        "outputId": "b366910c-e99a-4d52-b839-225416721c0e"
      },
      "outputs": [],
      "source": [
        "# @title 📦 Cargar librerías { display-mode: \"form\" }\n",
        "import pandas as pd\n",
        "import re\n",
        "import unicodedata\n",
        "from collections import Counter\n",
        "from wordcloud import WordCloud, STOPWORDS\n",
        "import matplotlib.pyplot as plt\n",
        "\n",
        "# Mostrar gráficos dentro del notebook\n",
        "%matplotlib inline\n",
        "\n",
        "# Clonar el repo e importar funciones\n",
        "!git clone https://github.com/cfusterbarcelo/Sirviendo-Te.git\n",
        "%cd Sirviendo-Te\n"
      ]
    },
    {
      "cell_type": "markdown",
      "id": "zQT21IDc4bMM",
      "metadata": {
        "id": "zQT21IDc4bMM"
      },
      "source": [
        "## 🧼 ¿Quieres eliminar alguna palabra concreta de tu chat?\n",
        "\n",
        "Esta herramienta ya filtra muchas palabras comunes en castellano y catalán, como “que”, “el”, “las”, “y”, “jaja”, etc.  \n",
        "Pero si hay **otras palabras que quieres quitar porque no aportan nada** (como nombres propios, bromas internas, etc.), puedes escribirlas aquí abajo.\n",
        "\n",
        "✍️ Escríbelas separadas por comas. Por ejemplo:\n",
        "```\n",
        "lucía,pixar,vale,lol,jose\n",
        "```\n"
      ]
    },
    {
      "cell_type": "code",
      "execution_count": 27,
      "id": "bBwH3BBC4nKp",
      "metadata": {
        "id": "bBwH3BBC4nKp"
      },
      "outputs": [],
      "source": [
        "# @title ✍️ Escribe palabras adicionales a eliminar (separadas por comas) { display-mode: \"form\" }\n",
        "palabras_extra = \"viernes,domingo,fatal\"  # @param {type:\"string\"}\n",
        "palabras_extra = [p.strip().lower() for p in palabras_extra.split(\",\") if p.strip()]"
      ]
    },
    {
      "cell_type": "markdown",
      "id": "Lx0FMAU253QL",
      "metadata": {
        "id": "Lx0FMAU253QL"
      },
      "source": [
        "## ☁️ Nube de palabras\n",
        "\n",
        "Aquí tienes una nube de palabras basada en tu chat.  \n",
        "Ya hemos filtrado palabras comunes (como “que”, “el”, “jajaja”, etc.) y también hemos eliminado las que tú añadiste manualmente más arriba.\n",
        "\n",
        "🔍 Cuanto más grande aparece una palabra, más veces se ha repetido.\n",
        "\n",
        "*(Este paso puede tardar un poco si tu chat es muy largo.)*"
      ]
    },
    {
      "cell_type": "code",
      "execution_count": null,
      "id": "QIq0ThRU568_",
      "metadata": {
        "colab": {
          "base_uri": "https://localhost:8080/",
          "height": 837
        },
        "id": "QIq0ThRU568_",
        "outputId": "f9d64a9f-e6cf-437e-d262-dadaddf4209a"
      },
      "outputs": [],
      "source": [
        "# @title ☁️ Generar nube de palabras { display-mode: \"form\" }\n",
        "\n",
        "from scripts.utils import construir_stopwords, generar_wordcloud\n",
        "\n",
        "# Construir stopwords combinadas\n",
        "stopwords_totales = construir_stopwords(extra=palabras_extra, idioma='es')\n",
        "\n",
        "# Generar WordCloud directamente\n",
        "generar_wordcloud(df, stopwords_totales, title='Nube de palabras del grupo')\n"
      ]
    },
    {
      "cell_type": "markdown",
      "id": "HpMZRuV87NO1",
      "metadata": {
        "id": "HpMZRuV87NO1"
      },
      "source": [
        "## 🗣️ ¿Quién habla más en el grupo?\n",
        "\n",
        "Aquí puedes ver el número de mensajes que ha enviado cada persona en el chat.  \n",
        "¡Descubre quién es la persona que más té tiene que contar!\n",
        "\n",
        "*(No se cuentan archivos adjuntos ni mensajes eliminados — solo lo que se ha escrito de verdad.)*"
      ]
    },
    {
      "cell_type": "code",
      "execution_count": null,
      "id": "ob7oNfTp7Xbp",
      "metadata": {
        "colab": {
          "base_uri": "https://localhost:8080/",
          "height": 607
        },
        "id": "ob7oNfTp7Xbp",
        "outputId": "ac4f2069-2756-4c8f-c3d4-d3ce18f20bd4"
      },
      "outputs": [],
      "source": [
        "# @title 📊 Ver quién ha enviado más mensajes { display-mode: \"form\" }\n",
        "df['Usuario'] = df['Usuario'].apply(lambda x: re.sub(r'[^\\w\\s@()áéíóúÁÉÍÓÚüÜñÑ]', '', x))\n",
        "\n",
        "# Filtrar mensajes de sistema que contienen \"creado el grupo\", \"cambió la foto\", etc.\n",
        "mensajes_validos = df[\n",
        "    ~df['Mensaje'].str.contains(\"has creado el grupo|cambió la foto del grupo|añadió a\", case=False, na=False)\n",
        "    & ~df['Usuario'].str.contains(\"chat\", case=False)\n",
        "]\n",
        "\n",
        "# Contar mensajes por usuario\n",
        "conteo_mensajes = mensajes_validos['Usuario'].value_counts()\n",
        "\n",
        "# Mostrar gráfico\n",
        "plt.figure(figsize=(10, 6))\n",
        "conteo_mensajes.plot(kind='barh', color='mediumseagreen')\n",
        "plt.xlabel(\"Número de mensajes\")\n",
        "plt.title(\"¿Quién habla más en el grupo?\")\n",
        "plt.gca().invert_yaxis()  # para que el que más habla esté arriba\n",
        "plt.grid(axis='x', linestyle='--', alpha=0.5)\n",
        "plt.tight_layout()\n",
        "plt.show()\n"
      ]
    },
    {
      "cell_type": "markdown",
      "id": "GiGXmZkm8IgA",
      "metadata": {
        "id": "GiGXmZkm8IgA"
      },
      "source": [
        "## ✍️ ¿Quién se enrolla más?\n",
        "\n",
        "Aquí puedes ver la **media de palabras por mensaje** de cada persona.  \n",
        "Las que más escriben por mensaje no siempre son las que más mensajes mandan. ¡Veamos quién es la reina del párrafo largo!"
      ]
    },
    {
      "cell_type": "code",
      "execution_count": null,
      "id": "cVI2WBsY8Pgy",
      "metadata": {
        "colab": {
          "base_uri": "https://localhost:8080/",
          "height": 607
        },
        "id": "cVI2WBsY8Pgy",
        "outputId": "7ed3ecb9-4da7-4f46-c077-0ea289b6a96e"
      },
      "outputs": [],
      "source": [
        "# @title ✍️ Ver quién escribe mensajes más largos (por número de palabras) { display-mode: \"form\" }\n",
        "\n",
        "# Quitar emojis y rarezas de nombres de usuario\n",
        "df['Usuario'] = df['Usuario'].apply(lambda x: re.sub(r'[^\\w\\s@()áéíóúÁÉÍÓÚüÜñÑ]', '', x))\n",
        "\n",
        "# Crear nueva versión del DataFrame solo con personas reales\n",
        "df_usuarios = df[\n",
        "    ~df['Usuario'].str.lower().str.contains('chat') &\n",
        "    ~df['Mensaje'].str.lower().str.contains(\n",
        "        'has creado el grupo|cambió la foto del grupo|ha cambiado el asunto|añadió a|has cambiado el nombre',\n",
        "        na=False\n",
        "    )\n",
        "].copy()\n",
        "\n",
        "# Crear columna con número de palabras por mensaje\n",
        "df_usuarios['num_palabras'] = df_usuarios['Mensaje'].str.split().apply(len)\n",
        "\n",
        "# Eliminar mensajes vacíos o NaN (por si acaso)\n",
        "df_filtrado = df_usuarios[df_usuarios['num_palabras'] > 0]\n",
        "\n",
        "# Calcular media por persona\n",
        "media_palabras = df_filtrado.groupby('Usuario')['num_palabras'].mean().sort_values(ascending=False)\n",
        "\n",
        "# Mostrar gráfico\n",
        "plt.figure(figsize=(10, 6))\n",
        "media_palabras.plot(kind='barh', color='plum')\n",
        "plt.xlabel(\"Media de palabras por mensaje\")\n",
        "plt.title(\"¿Quién escribe los mensajes más largos?\")\n",
        "plt.gca().invert_yaxis()\n",
        "plt.grid(axis='x', linestyle='--', alpha=0.5)\n",
        "plt.tight_layout()\n",
        "plt.show()\n"
      ]
    },
    {
      "cell_type": "markdown",
      "id": "x03WFjvB9MSM",
      "metadata": {
        "id": "x03WFjvB9MSM"
      },
      "source": [
        "## 🫖 El verdadero té: ¿quién aparece más?\n",
        "\n",
        "A veces no se trata de quién habla más, sino de **quién es más mencionado**.  \n",
        "En esta sección puedes introducir nombres u otras palabras clave y ver **cuántas veces se mencionan en el chat**. Puedes añadir tantas como quieras! Si quieres añadir nuevas, solo vuelve a darle al play a esta las siguientes celdas!\n",
        "\n",
        "Nadie más conoce a este chat como tú, así que es tu momento de buscar cuáles son vuestros temas de conversación más \"juicy\".\n",
        "Por ejemplo:\n",
        "- Nombres de personas externas al grupo\n",
        "- Palabras o expresiones recurrentes\n",
        "- El nombre de tu tu compañero de piso 👀\n",
        "\n",
        "✍️ Escribe las palabras separadas por comas.\n"
      ]
    },
    {
      "cell_type": "code",
      "execution_count": 28,
      "id": "uDKH-fie-0ZM",
      "metadata": {
        "id": "uDKH-fie-0ZM"
      },
      "outputs": [],
      "source": [
        "# @title ☕ Palabras clave para medir { display-mode: \"form\" }\n",
        "palabras_clave = \"juan,pablo,drama,vintage\"  # @param {type:\"string\"}\n",
        "palabras_clave = [p.strip().lower() for p in palabras_clave.split(\",\") if p.strip()]\n"
      ]
    },
    {
      "cell_type": "code",
      "execution_count": null,
      "id": "pQZUiRyC9lGo",
      "metadata": {
        "colab": {
          "base_uri": "https://localhost:8080/",
          "height": 607
        },
        "id": "pQZUiRyC9lGo",
        "outputId": "29173bc2-e485-4993-9134-d80b90c6b801"
      },
      "outputs": [],
      "source": [
        "# @title 📊 Frecuencia de palabras clave { display-mode: \"form\" }\n",
        "\n",
        "from scripts.utils import normalizar\n",
        "\n",
        "# Unir todo el texto del chat\n",
        "texto_chat = ' '.join(df_usuarios['Mensaje'].astype(str))\n",
        "texto_chat = normalizar(texto_chat)\n",
        "\n",
        "# Dividir en palabras limpias\n",
        "palabras_en_chat = re.findall(r'\\b[a-z]+\\b', texto_chat)\n",
        "\n",
        "# Contar solo las que están en palabras_clave\n",
        "contador = Counter([p for p in palabras_en_chat if p in palabras_clave])\n",
        "\n",
        "# Crear DataFrame para graficar\n",
        "df_freq = pd.DataFrame(contador.items(), columns=['Palabra', 'Frecuencia']).sort_values(by='Frecuencia', ascending=True)\n",
        "\n",
        "# Mostrar gráfico\n",
        "plt.figure(figsize=(10, 6))\n",
        "plt.barh(df_freq['Palabra'], df_freq['Frecuencia'], color='salmon')\n",
        "plt.xlabel(\"Número de veces mencionada\")\n",
        "plt.title(\"Frecuencia de palabras clave\")\n",
        "plt.grid(axis='x', linestyle='--', alpha=0.6)\n",
        "plt.tight_layout()\n",
        "plt.show()\n"
      ]
    }
  ],
  "metadata": {
    "colab": {
      "include_colab_link": true,
      "provenance": [],
      "toc_visible": true
    },
    "kernelspec": {
      "display_name": "Python 3",
      "language": "python",
      "name": "python3"
    },
    "language_info": {
      "name": "python",
      "version": "3.9.19"
    }
  },
  "nbformat": 4,
  "nbformat_minor": 5
}
