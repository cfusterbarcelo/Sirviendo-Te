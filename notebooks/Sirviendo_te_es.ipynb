{
 "cells": [
  {
   "cell_type": "markdown",
   "id": "52f31d5b",
   "metadata": {},
   "source": [
    "# ☕ Sirviendo-Té: Analiza tu chat de WhatsApp\n",
    "\n",
    "### Bienvenida, bienvenido, bienvenide. 💬✨\n",
    "\n",
    "No te asustes: **no vas a tener que programar**.  \n",
    "Este cuaderno está diseñado para que puedas **sacarle todo el jugo a tu chat de WhatsApp** sin complicaciones.\n",
    "\n",
    "Solo necesitas:\n",
    "\n",
    "1. Exportar tu chat desde WhatsApp (encontrarás cómo en el [Readme.md](../README.md)).\n",
    "2. Subirlo aquí.\n",
    "3. Sentarte a disfrutar de **gráficos, nubes de palabras, datos curiosos y estadísticas** que revelan lo que pasa realmente en tu grupo.\n",
    "\n",
    "Vamos a ir viendo cosas como:\n",
    "- Quién habla más\n",
    "- Qué palabras se usan más\n",
    "- Cuándo está más activo el grupo\n",
    "\n",
    "Todo listo para que puedas **fardar con estilo**.  \n",
    "Vamos a ello. 🫖"
   ]
  },
  {
   "cell_type": "markdown",
   "id": "39c95f41",
   "metadata": {},
   "source": [
    "## 📂 Sube tu archivo exportado de WhatsApp\n",
    "\n",
    "Arrastra o selecciona el archivo `.txt` que exportaste desde tu chat de WhatsApp.\n",
    "\n",
    "Assegúrate de descomprimirlo si lo tienes en un `.zip`, aquí necesitamos el `.txt` para sacarle todo el jugo!\n",
    "⬇️ Sube tu archivo aquí abajo:"
   ]
  },
  {
   "cell_type": "code",
   "execution_count": null,
   "id": "78058e8f",
   "metadata": {},
   "outputs": [],
   "source": [
    "# @title 📎 Subir archivo de WhatsApp (.txt) { display-mode: \"form\" }\n",
    "from google.colab import files\n",
    "import pandas as pd\n",
    "import re\n",
    "\n",
    "uploaded = files.upload()\n",
    "chat_file = list(uploaded.keys())[0]\n",
    "\n",
    "with open(chat_file, 'r', encoding='utf-8') as f:\n",
    "    lines = f.readlines()\n",
    "\n",
    "print(\"✅ Archivo cargado correctamente. ¡Vamos allá!\")"
   ]
  },
  {
   "cell_type": "markdown",
   "id": "07cd240e",
   "metadata": {},
   "source": [
    "## ☁️ Nube de palabras\n",
    "\n",
    "Aquí tienes una nube de palabras con los términos más utilizados en tu conversación.  \n",
    "Hemos filtrado automáticamente las palabras vacías, expresiones comunes y ruido del lenguaje del grupo.\n",
    "\n",
    "🔍 Cuanto más grande aparece una palabra, más veces se ha repetido.\n",
    "\n",
    "👇 Puedes ocultar o mostrar el código si quieres ver cómo se genera."
   ]
  },
  {
   "cell_type": "markdown",
   "id": "695342f6",
   "metadata": {},
   "source": [
    "# @title ☁️ Generar nube de palabras { display-mode: \"form\" }\n",
    "\n",
    "from utils_chat import generar_wordcloud\n",
    "\n",
    "# Lista de stopwords extra en castellano\n",
    "stopwords_es = {\n",
    "    'que', 'de', 'y', 'el', 'la', 'lo', 'los', 'las', 'en', 'es', 'un', 'una', 'por', 'con',\n",
    "    'yo', 'tú', 'tu', 'te', 'me', 'mi', 'ya', 'sí', 'no', 'al', 'se', 'les', 'le', 'del',\n",
    "    'este', 'ese', 'eso', 'aquí', 'allí', 'ahí', 'porque', 'pues', 'más', 'muy', 'para',\n",
    "    'voy', 'estoy', 'está', 'estás', 'estamos', 'he', 'ha', 'has', 'hay', 'hacer', 'ser',\n",
    "    'va', 'vamos', 'todo', 'nada', 'también', 'igual', 'pero', 'solo', 'bien', 'como', 'cuando',\n",
    "    'donde', 'ni', 'sí', 'o', 'u', 'vale', 'https', 'tengo', 'tener', 'hoy', 'mañana', 'ahora',\n",
    "    'luego', 'sisi', 'oye', 'ver', 'dice', 'dijo', 'da', 'nos', 'nosotros', 'nosotras',\n",
    "    'solo', 'puede', 'puedo', 'puedes', 'quiere', 'quieren', 'aunque', 'eso', 'buenas',\n",
    "    'jajajaja', 'jajaja', 'jaja', 'ajaja', 'bua', 'uff', 'aja',\n",
    "    'sii', 'siii', 'siiii', 'oye', 'ok', 'ajajaja', 'ajajaj', 'jssjs', 'jjaja', 'ajja',\n",
    "    'gracias', 'vida', 'mmm', 'wtf', 'tía', 'tia', 'ufff', 'oye', 'eh', 'ajá'\n",
    "}\n",
    "\n",
    "# Usamos también las stopwords de WordCloud\n",
    "from wordcloud import STOPWORDS\n",
    "stopwords_total = STOPWORDS.union(stopwords_es)\n",
    "\n",
    "# Mostrar WordCloud\n",
    "generar_wordcloud(df, stopwords_total, title='Nube de palabras del grupo')"
   ]
  },
  {
   "cell_type": "markdown",
   "id": "c55d34c6",
   "metadata": {},
   "source": []
  }
 ],
 "metadata": {
  "kernelspec": {
   "display_name": "Python 3",
   "language": "python",
   "name": "python3"
  },
  "language_info": {
   "name": "python",
   "version": "3.9.19"
  }
 },
 "nbformat": 4,
 "nbformat_minor": 5
}
