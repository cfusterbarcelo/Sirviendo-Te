{
 "cells": [
  {
   "cell_type": "markdown",
   "id": "030efcf2",
   "metadata": {},
   "source": [
    "# ☕ Sirvint-Té: Analitza el teu xat de WhatsApp\n",
    "\n",
    "### Benvinguda, benvingut, benvingude. 💬✨\n",
    "\n",
    "No t'asustis: **no fa falta que sàpigues programar**.  \n",
    "Aquest quadern està pensat perquè puguis **treure tot el suc del teu xat de WhatsApp** sense complicacions.\n",
    "\n",
    "Només necessites:\n",
    "\n",
    "1. Exportar el teu xat des de WhatsApp (trobaràs com fer-ho al [README.md](../README.md)).\n",
    "2. Pujar-lo aquí.\n",
    "3. Seure i gaudir de **gràfics, núvols de paraules, dades curioses i estadístiques** que revelen què passa realment al teu grup.\n",
    "\n",
    "Anirem veient coses com:\n",
    "- Qui parla més\n",
    "- Quines paraules s’utilitzen més\n",
    "- Quan està més actiu el grup\n",
    "\n",
    "Tot preparat perquè puguis **presumir amb estil**.  \n",
    "Au idoi! 🫖"
   ]
  },
  {
   "cell_type": "markdown",
   "id": "edbe5761",
   "metadata": {},
   "source": [
    "## 📂 Puja el teu arxiu exportat de WhatsApp\n",
    "\n",
    "Arrossega o selecciona el fitxer `.txt` que has exportat del teu xat de WhatsApp.\n",
    "\n",
    "Assegura't de descomprimir-lo si es troba amb un arxiu `.zip` aquí  el que volem és l'arxiu `.txt` per treurer-li tot el suc.\n",
    "\n",
    "⬇️ Puja el teu fitxer aquí a sota:"
   ]
  },
  {
   "cell_type": "markdown",
   "id": "997c14a9",
   "metadata": {},
   "source": []
  }
 ],
 "metadata": {
  "language_info": {
   "name": "python"
  }
 },
 "nbformat": 4,
 "nbformat_minor": 5
}
